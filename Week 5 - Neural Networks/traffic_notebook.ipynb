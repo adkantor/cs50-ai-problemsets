{
 "metadata": {
  "language_info": {
   "codemirror_mode": {
    "name": "ipython",
    "version": 3
   },
   "file_extension": ".py",
   "mimetype": "text/x-python",
   "name": "python",
   "nbconvert_exporter": "python",
   "pygments_lexer": "ipython3",
   "version": "3.7.2-final"
  },
  "orig_nbformat": 2,
  "kernelspec": {
   "name": "Python 3.7.2 64-bit ('cs50ai': venv)",
   "display_name": "Python 3.7.2 64-bit ('cs50ai': venv)",
   "metadata": {
    "interpreter": {
     "hash": "368c6419a121e47d2ba7a65faf6952e0c2adb824b19c5e4d8f1ab553f226a136"
    }
   }
  }
 },
 "nbformat": 4,
 "nbformat_minor": 2,
 "cells": [
  {
   "cell_type": "code",
   "execution_count": 18,
   "metadata": {},
   "outputs": [],
   "source": [
    "import cv2\n",
    "import numpy as np \n",
    "import os\n",
    "\n",
    "import tensorflow as tf\n",
    "\n",
    "from sklearn.model_selection import train_test_split"
   ]
  },
  {
   "cell_type": "code",
   "execution_count": 9,
   "metadata": {},
   "outputs": [],
   "source": [
    "EPOCHS = 10\n",
    "IMG_WIDTH = 30\n",
    "IMG_HEIGHT = 30\n",
    "NUM_CATEGORIES = 43\n",
    "TEST_SIZE = 0.4"
   ]
  },
  {
   "cell_type": "code",
   "execution_count": 10,
   "metadata": {},
   "outputs": [
    {
     "output_type": "execute_result",
     "data": {
      "text/plain": [
       "(30, 29, 3)"
      ]
     },
     "metadata": {},
     "execution_count": 10
    }
   ],
   "source": [
    "# img = cv2.imread('./gtsrb/0/00000_00000.ppm', cv2.IMREAD_COLOR)\n",
    "# img.shape"
   ]
  },
  {
   "cell_type": "code",
   "execution_count": 11,
   "metadata": {},
   "outputs": [],
   "source": [
    "# cv2.imshow('image', img)\n",
    "# cv2.waitKey(0)\n",
    "# cv2.destroyAllWindows()"
   ]
  },
  {
   "cell_type": "code",
   "execution_count": 12,
   "metadata": {},
   "outputs": [],
   "source": [
    "def resize_image(img, img_width=30, img_height=30):\n",
    "    \"\"\"\n",
    "    Resizes image.\n",
    "    \"\"\"\n",
    "    return cv2.resize(img, (30, 30))"
   ]
  },
  {
   "cell_type": "code",
   "execution_count": 17,
   "metadata": {
    "tags": []
   },
   "outputs": [
    {
     "output_type": "stream",
     "name": "stdout",
     "text": [
      "Total: 840\n840\n"
     ]
    }
   ],
   "source": [
    "images = []\n",
    "labels = []\n",
    "# recursively iterate directories for files\n",
    "for root, subdirs, files in os.walk('gtsrb-small'):\n",
    "    for filename in files:\n",
    "        img_path = os.path.join(root, filename)\n",
    "        # load image\n",
    "        img = cv2.imread(img_path, cv2.IMREAD_COLOR)\n",
    "        # resize image\n",
    "        img = resize_image(img, img_width=IMG_WIDTH, img_height=IMG_HEIGHT)\n",
    "        # append to the list\n",
    "        images.append(img)\n",
    "        label = int(os.path.basename(root)) + 1\n",
    "        labels.append(label)\n",
    "\n",
    "print(f'Total: {len(images)}')\n",
    "print(len(labels))"
   ]
  },
  {
   "source": [
    "## Benchmark ANN model without convolution"
   ],
   "cell_type": "markdown",
   "metadata": {}
  },
  {
   "cell_type": "code",
   "execution_count": null,
   "metadata": {},
   "outputs": [],
   "source": []
  }
 ]
}